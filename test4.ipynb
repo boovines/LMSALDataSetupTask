{
 "cells": [
  {
   "cell_type": "code",
   "execution_count": 70,
   "id": "c2609ae3-ee01-4fb5-9386-92b560d75894",
   "metadata": {},
   "outputs": [],
   "source": [
    "from sunpy.net.jsoc.jsoc import drms\n",
    "client = drms.Client()\n",
    "import numpy"
   ]
  },
  {
   "cell_type": "markdown",
   "id": "2b683e1e-c51e-427e-a52a-bf38f1140762",
   "metadata": {},
   "source": [
    "# Method 1"
   ]
  },
  {
   "cell_type": "code",
   "execution_count": 204,
   "id": "448d6db8-588b-493e-9161-e5a7f89d7542",
   "metadata": {},
   "outputs": [],
   "source": [
    "import datetime as dt    \n",
    "from datetime import timedelta\n",
    "\n",
    "def downloadFitsFido(times, date, intvl, harpnum): # intvl minimum of 12mins\n",
    "    files = []\n",
    "    jsoc = drms.Client(email=\"jhou@lmsal.com\")\n",
    "    \n",
    "    yr1 = str(date.year).zfill(2)\n",
    "    mnth1 = str(date.month).zfill(2)\n",
    "    day1 = str(date.day).zfill(2)\n",
    "    hr1 = str(date.hour).zfill(2)\n",
    "    \n",
    "    hr = str(date.hour+1).zfill(2)\n",
    "    print(yr1, mnth1, hr1, hr)\n",
    "\n",
    "    harp = client.query(f'hmi.sharp_720s[][{yr1}.{mnth1}.{day1}_{hr1}:00_TAI-{yr1}.{mnth1}.{day1}_{hr}:00_TAI]', key = ['HARPNUM','T_REC','NOAA_ARS'])\n",
    "    \n",
    "    # harpnum = harp['HARPNUM'][harp['NOAA_ARS'] == f'{noaanum}'].values\n",
    "    # print(harpnum)\n",
    "#     noaanums = [noaanums for noaanums in harp[\"NOAA_ARS\"] if str(noaanum) in noaanums][0]\n",
    "#     # print(noaanums)\n",
    "\n",
    "#     harpnum = harp['HARPNUM'][harp['NOAA_ARS'] == noaanums].values[0]\n",
    "#     if harpnum==[]: # if it is 11429, 11430 or sum\n",
    "#         noaanums = [noaanums for noaanums in harp[\"NOAA_ARS\"] if str(noaanum) in noaanums][0]\n",
    "\n",
    "#         harpnum = harp['HARPNUM'][harp['NOAA_ARS'] == noaanums].values\n",
    "        \n",
    "#         if harpnum ==[]:\n",
    "#             print(\"Didn't find AR within provided range\")\n",
    "#             return\n",
    "    # fharpnum = harpnum[0]\n",
    "    # hnum= [h for h in harpnum]\n",
    "    \n",
    "    \n",
    "    \n",
    "    td = timedelta(hours=intvl*times)\n",
    "    # your calculated date\n",
    "    print(date, td)\n",
    "    date2 = date + td #enddate\n",
    "    \n",
    "    yr2 = str(date.year).zfill(2)\n",
    "    mnth2 = str(date.month).zfill(2)\n",
    "    day2 = str(date.day).zfill(2)\n",
    "    hr2 = str(date.hour).zfill(2)\n",
    "    # print(harp)\n",
    "    # print(harpnum, yr1, yr2, mnth1, mnth2, hr1, hr2)\n",
    "    fname = client.query(f'hmi.sharp_720s[{harpnum}][{yr1}.{mnth1}.{day1}_{hr1}:00_TAI-{yr2}.{mnth2}.{day2}_{hr2}:00_TAI]', seg='magnetogram') #for h in harpnum\n",
    "    bmap = client.query(f'hmi.sharp_720s[{harpnum}][{yr1}.{mnth1}.{day1}_{hr1}:00_TAI-{yr2}.{mnth2}.{day2}_{hr2}:00_TAI]', seg='bitmap')\n",
    "    return fname, bmap\n",
    "    \n",
    "#     from astropy.io import fits\n",
    "#     # fits_image_filename = fits.util.get_testdata_filepath(\"/SUM44/D642407832/S00000/magnetogram.fits\")#s['magnetogram'][0])\n",
    "\n",
    "#     hdul = fits.open(s['magnetogram'][0])\n",
    "#     hdul.info()\n",
    "#     image = fits.getdata(s['magnetogram'][0])\n",
    "#     plt.imshow(image, cmap=\"gray\")\n",
    "#     print(image)"
   ]
  },
  {
   "cell_type": "code",
   "execution_count": null,
   "id": "9dae3bf6-d986-4dd8-9fae-d91301d468b9",
   "metadata": {},
   "outputs": [],
   "source": [
    "harp = client.query(f'hmi.sharp_720s[][2010.3.31_00:00_TAI-2022.12.{day1}_{hr}:00_TAI]', key = ['HARPNUM','T_REC','NOAA_ARS'])\n",
    "    \n",
    "# harpnum = harp['HARPNUM'][harp['NOAA_ARS'] == f'{noaanum}'].values\n",
    "# print(harpnum)\n",
    "noaanums = [noaanums for noaanums in harp[\"NOAA_ARS\"] if str(noaanum) in noaanums][0]\n",
    "# print(noaanums)\n",
    "\n",
    "harpnum = harp['HARPNUM'][harp['NOAA_ARS'] == noaanums].values[0]\n",
    "if harpnum==[]: # if it is 11429, 11430 or sum\n",
    "    noaanums = [noaanums for noaanums in harp[\"NOAA_ARS\"] if str(noaanum) in noaanums][0]\n",
    "\n",
    "    harpnum = harp['HARPNUM'][harp['NOAA_ARS'] == noaanums].values\n",
    "\n",
    "    if harpnum ==[]:\n",
    "        print(\"Didn't find AR within provided range\")\n",
    "        return"
   ]
  },
  {
   "cell_type": "code",
   "execution_count": 198,
   "id": "f3064ea8-c372-4e1d-bf22-108d729c6398",
   "metadata": {},
   "outputs": [],
   "source": [
    "harp = client.query(f'hmi.sharp_720s[][2010.05.31_00:00_TAI-2010.06.03_00:00_TAI]', key = ['HARPNUM','T_REC','NOAA_ARS'])\n"
   ]
  },
  {
   "cell_type": "code",
   "execution_count": 197,
   "id": "0a6b52f7-5ce9-42fe-a12f-5b63c29dfb8f",
   "metadata": {},
   "outputs": [],
   "source": [
    "harp.to_csv(\"harpnums.csv\")"
   ]
  },
  {
   "cell_type": "code",
   "execution_count": 208,
   "id": "44e61211-a29d-4d75-b5d2-93b8619c331b",
   "metadata": {},
   "outputs": [
    {
     "name": "stdout",
     "output_type": "stream",
     "text": [
      "2012 03 00 01\n",
      "2012-03-07 00:24:00 2:00:00\n",
      "                                  magnetogram\n",
      "0  /SUM99/D1039223605/S00000/magnetogram.fits\n",
      "/SUM99/D1039223605/S00000/magnetogram.fits\n"
     ]
    },
    {
     "ename": "IndexError",
     "evalue": "No data in HDU #0.",
     "output_type": "error",
     "traceback": [
      "\u001b[0;31m---------------------------------------------------------------------------\u001b[0m",
      "\u001b[0;31mIndexError\u001b[0m                                Traceback (most recent call last)",
      "Input \u001b[0;32mIn [208]\u001b[0m, in \u001b[0;36m<cell line: 12>\u001b[0;34m()\u001b[0m\n\u001b[1;32m     10\u001b[0m image_file \u001b[38;5;241m=\u001b[39m get_pkg_data_filename(a[\u001b[38;5;124m\"\u001b[39m\u001b[38;5;124mmagnetogram\u001b[39m\u001b[38;5;124m\"\u001b[39m][\u001b[38;5;241m0\u001b[39m])\n\u001b[1;32m     11\u001b[0m \u001b[38;5;28mprint\u001b[39m(image_file)\n\u001b[0;32m---> 12\u001b[0m image_data \u001b[38;5;241m=\u001b[39m \u001b[43mfits\u001b[49m\u001b[38;5;241;43m.\u001b[39;49m\u001b[43mgetdata\u001b[49m\u001b[43m(\u001b[49m\u001b[43mimage_file\u001b[49m\u001b[43m,\u001b[49m\u001b[43m \u001b[49m\u001b[43mext\u001b[49m\u001b[38;5;241;43m=\u001b[39;49m\u001b[38;5;241;43m0\u001b[39;49m\u001b[43m)\u001b[49m\n\u001b[1;32m     14\u001b[0m \u001b[38;5;28mprint\u001b[39m(image_data\u001b[38;5;241m.\u001b[39mshape())\n",
      "File \u001b[0;32m~/mambaforge/envs/AIA/lib/python3.10/site-packages/astropy/io/fits/convenience.py:209\u001b[0m, in \u001b[0;36mgetdata\u001b[0;34m(filename, header, lower, upper, view, *args, **kwargs)\u001b[0m\n\u001b[1;32m    207\u001b[0m \u001b[38;5;28;01mif\u001b[39;00m data \u001b[38;5;129;01mis\u001b[39;00m \u001b[38;5;28;01mNone\u001b[39;00m:\n\u001b[1;32m    208\u001b[0m     \u001b[38;5;28;01mif\u001b[39;00m ext_given:\n\u001b[0;32m--> 209\u001b[0m         \u001b[38;5;28;01mraise\u001b[39;00m \u001b[38;5;167;01mIndexError\u001b[39;00m(\u001b[38;5;124mf\u001b[39m\u001b[38;5;124m\"\u001b[39m\u001b[38;5;124mNo data in HDU #\u001b[39m\u001b[38;5;132;01m{\u001b[39;00mextidx\u001b[38;5;132;01m}\u001b[39;00m\u001b[38;5;124m.\u001b[39m\u001b[38;5;124m\"\u001b[39m)\n\u001b[1;32m    211\u001b[0m     \u001b[38;5;66;03m# fallback to the first extension HDU\u001b[39;00m\n\u001b[1;32m    212\u001b[0m     \u001b[38;5;28;01mif\u001b[39;00m \u001b[38;5;28mlen\u001b[39m(hdulist) \u001b[38;5;241m==\u001b[39m \u001b[38;5;241m1\u001b[39m:\n",
      "\u001b[0;31mIndexError\u001b[0m: No data in HDU #0."
     ]
    }
   ],
   "source": [
    "from astropy.io import fits\n",
    "from astropy.utils.data import get_pkg_data_filename\n",
    "\n",
    "\n",
    "a, b = downloadFitsFido(1, dt.datetime(2012,3,7,0,24), 2, 1449)\n",
    "print(a)\n",
    "type(a[\"magnetogram\"][0])\n",
    "\n",
    "# hdul = fits.open(b[\"bitmap\"][0])\n",
    "image_file = get_pkg_data_filename(a[\"magnetogram\"][0])\n",
    "print(image_file)\n",
    "image_data = fits.getdata(image_file, ext=0)\n",
    "\n",
    "print(image_data.shape())"
   ]
  },
  {
   "cell_type": "code",
   "execution_count": 178,
   "id": "2fb4bba8-dbf7-4184-8299-a231c35b53cd",
   "metadata": {},
   "outputs": [],
   "source": [
    "harp = client.query('hmi.sharp_720s[][2012.03.07_00:24_TAI-2012.03.07_00:36:00_TAI]', key = ['HARPNUM','T_REC','NOAA_ARS'])\n",
    "\n",
    "noaanum = 11429"
   ]
  },
  {
   "cell_type": "code",
   "execution_count": 151,
   "id": "f141be01-761a-4c1a-8ca4-6af266ff2306",
   "metadata": {},
   "outputs": [
    {
     "name": "stdout",
     "output_type": "stream",
     "text": [
      "    HARPNUM                    T_REC     NOAA_ARS\n",
      "0      1441  2012.03.07_00:24:00_TAI      MISSING\n",
      "1      1441  2012.03.07_00:36:00_TAI      MISSING\n",
      "2      1446  2012.03.07_00:24:00_TAI      MISSING\n",
      "3      1446  2012.03.07_00:36:00_TAI      MISSING\n",
      "4      1447  2012.03.07_00:24:00_TAI        11428\n",
      "5      1447  2012.03.07_00:36:00_TAI        11428\n",
      "6      1449  2012.03.07_00:24:00_TAI  11429,11430\n",
      "7      1449  2012.03.07_00:36:00_TAI  11429,11430\n",
      "8      1455  2012.03.07_00:24:00_TAI        11431\n",
      "9      1455  2012.03.07_00:36:00_TAI        11431\n",
      "10     1456  2012.03.07_00:24:00_TAI      MISSING\n",
      "11     1456  2012.03.07_00:36:00_TAI      MISSING\n",
      "12     1457  2012.03.07_00:24:00_TAI      MISSING\n",
      "13     1457  2012.03.07_00:36:00_TAI      MISSING\n",
      "11429,11430\n",
      "1449\n"
     ]
    }
   ],
   "source": [
    "# print(harp.shape)\n",
    "\n",
    "print(harp)\n",
    "noaanums = [noaanums for noaanums in harp[\"NOAA_ARS\"] if str(noaanum) in noaanums][0]\n",
    "\n",
    "harpnum = harp['HARPNUM'][harp['NOAA_ARS'] == noaanums].values[0]\n",
    "print(noaanums)\n",
    "print(harpnum)\n",
    "# z= [h for h in harpnum]\n",
    "# print(z)\n",
    "# harp[\"HARPNUM\"]"
   ]
  },
  {
   "cell_type": "code",
   "execution_count": 93,
   "id": "9c97517b-bf27-4a9f-a643-c65572173453",
   "metadata": {},
   "outputs": [
    {
     "name": "stdout",
     "output_type": "stream",
     "text": [
      "True\n"
     ]
    }
   ],
   "source": [
    "print(str(noaanum) in harp[\"NOAA_ARS\"][6])"
   ]
  },
  {
   "cell_type": "code",
   "execution_count": 210,
   "id": "b953933d-9688-4503-a07a-d9f47f53e9c5",
   "metadata": {},
   "outputs": [
    {
     "ename": "IndexError",
     "evalue": "list index out of range",
     "output_type": "error",
     "traceback": [
      "\u001b[0;31m---------------------------------------------------------------------------\u001b[0m",
      "\u001b[0;31mIndexError\u001b[0m                                Traceback (most recent call last)",
      "Input \u001b[0;32mIn [210]\u001b[0m, in \u001b[0;36m<cell line: 1>\u001b[0;34m()\u001b[0m\n\u001b[0;32m----> 1\u001b[0m noaanums \u001b[38;5;241m=\u001b[39m \u001b[43m[\u001b[49m\u001b[43mnoaanums\u001b[49m\u001b[43m \u001b[49m\u001b[38;5;28;43;01mfor\u001b[39;49;00m\u001b[43m \u001b[49m\u001b[43mnoaanums\u001b[49m\u001b[43m \u001b[49m\u001b[38;5;129;43;01min\u001b[39;49;00m\u001b[43m \u001b[49m\u001b[43mharp\u001b[49m\u001b[43m[\u001b[49m\u001b[38;5;124;43m\"\u001b[39;49m\u001b[38;5;124;43mNOAA_ARS\u001b[39;49m\u001b[38;5;124;43m\"\u001b[39;49m\u001b[43m]\u001b[49m\u001b[43m \u001b[49m\u001b[38;5;28;43;01mif\u001b[39;49;00m\u001b[43m \u001b[49m\u001b[38;5;28;43mstr\u001b[39;49m\u001b[43m(\u001b[49m\u001b[43mnoaanum\u001b[49m\u001b[43m)\u001b[49m\u001b[43m \u001b[49m\u001b[38;5;129;43;01min\u001b[39;49;00m\u001b[43m \u001b[49m\u001b[43mnoaanums\u001b[49m\u001b[43m]\u001b[49m\u001b[43m[\u001b[49m\u001b[38;5;241;43m0\u001b[39;49m\u001b[43m]\u001b[49m\n\u001b[1;32m      3\u001b[0m harpnum \u001b[38;5;241m=\u001b[39m harp[\u001b[38;5;124m'\u001b[39m\u001b[38;5;124mHARPNUM\u001b[39m\u001b[38;5;124m'\u001b[39m][harp[\u001b[38;5;124m'\u001b[39m\u001b[38;5;124mNOAA_ARS\u001b[39m\u001b[38;5;124m'\u001b[39m] \u001b[38;5;241m==\u001b[39m noaanums]\u001b[38;5;241m.\u001b[39mvalues[\u001b[38;5;241m0\u001b[39m]\n\u001b[1;32m      4\u001b[0m harpnum[\u001b[38;5;241m0\u001b[39m]\n",
      "\u001b[0;31mIndexError\u001b[0m: list index out of range"
     ]
    }
   ],
   "source": [
    "noaanums = [noaanums for noaanums in harp[\"NOAA_ARS\"] if str(noaanum) in noaanums][0]\n",
    "\n",
    "harpnum = harp['HARPNUM'][harp['NOAA_ARS'] == noaanums].values[0]\n",
    "harpnum[0]"
   ]
  },
  {
   "cell_type": "code",
   "execution_count": 95,
   "id": "157b4ae8-00ad-4fdb-8228-7ac726afe0f5",
   "metadata": {},
   "outputs": [
    {
     "data": {
      "text/plain": [
       "0     False\n",
       "1     False\n",
       "2     False\n",
       "3     False\n",
       "4     False\n",
       "5     False\n",
       "6     False\n",
       "7     False\n",
       "8      True\n",
       "9      True\n",
       "10    False\n",
       "11    False\n",
       "12    False\n",
       "13    False\n",
       "Name: NOAA_ARS, dtype: bool"
      ]
     },
     "execution_count": 95,
     "metadata": {},
     "output_type": "execute_result"
    }
   ],
   "source": [
    "harp['NOAA_ARS'] == f'{11431}'"
   ]
  },
  {
   "cell_type": "code",
   "execution_count": 103,
   "id": "8eb14184-2b6a-4461-a238-9a3db582aea7",
   "metadata": {},
   "outputs": [
    {
     "name": "stdout",
     "output_type": "stream",
     "text": [
      "[]\n"
     ]
    }
   ],
   "source": [
    "harpnum = harp['HARPNUM'][harp['NOAA_ARS'] == f'{noaanum}'].values\n",
    "# harpnum = harp['HARPNUM'].values\n",
    "\n",
    "# type(harpnum)\n",
    "# isinstance(harpnum, numpy.int64)\n",
    "# [print(h) for h in harpnum]\n",
    "print(harpnum == [])\n"
   ]
  },
  {
   "cell_type": "code",
   "execution_count": 77,
   "id": "703fa8e2-312b-4523-a455-64a967f47b78",
   "metadata": {},
   "outputs": [
    {
     "data": {
      "text/plain": [
       "True"
      ]
     },
     "execution_count": 77,
     "metadata": {},
     "output_type": "execute_result"
    }
   ],
   "source": [
    "type(\"34\")==str"
   ]
  },
  {
   "cell_type": "code",
   "execution_count": 62,
   "id": "3736d8d2-4db0-436a-bb8a-0870ae833c67",
   "metadata": {},
   "outputs": [
    {
     "data": {
      "text/plain": [
       "True"
      ]
     },
     "execution_count": 62,
     "metadata": {},
     "output_type": "execute_result"
    }
   ],
   "source": [
    "isinstance(\"34\", str)"
   ]
  },
  {
   "cell_type": "code",
   "execution_count": 48,
   "id": "a23c4030-9cff-49e0-aec3-2eb5341519aa",
   "metadata": {},
   "outputs": [
    {
     "name": "stdout",
     "output_type": "stream",
     "text": [
      "1455\n",
      "1455\n"
     ]
    },
    {
     "data": {
      "text/plain": [
       "[None, None]"
      ]
     },
     "execution_count": 48,
     "metadata": {},
     "output_type": "execute_result"
    }
   ],
   "source": [
    "[print(h) for h in harpnum]"
   ]
  },
  {
   "cell_type": "code",
   "execution_count": 209,
   "id": "062199ab-7c5e-4adc-a192-19986ac23e24",
   "metadata": {},
   "outputs": [
    {
     "ename": "IndexError",
     "evalue": "invalid index to scalar variable.",
     "output_type": "error",
     "traceback": [
      "\u001b[0;31m---------------------------------------------------------------------------\u001b[0m",
      "\u001b[0;31mIndexError\u001b[0m                                Traceback (most recent call last)",
      "Input \u001b[0;32mIn [209]\u001b[0m, in \u001b[0;36m<cell line: 1>\u001b[0;34m()\u001b[0m\n\u001b[0;32m----> 1\u001b[0m fname \u001b[38;5;241m=\u001b[39m client\u001b[38;5;241m.\u001b[39mquery(\u001b[38;5;124mf\u001b[39m\u001b[38;5;124m'\u001b[39m\u001b[38;5;124mhmi.sharp_720s[\u001b[39m\u001b[38;5;132;01m{\u001b[39;00mharpnum[\u001b[38;5;241m0\u001b[39m]\u001b[38;5;132;01m}\u001b[39;00m\u001b[38;5;124m][2012.03.07_00:24_TAI-2012.03.07_00:36:00_TAI]\u001b[39m\u001b[38;5;124m'\u001b[39m, seg\u001b[38;5;241m=\u001b[39m\u001b[38;5;124m'\u001b[39m\u001b[38;5;124mmagnetogram\u001b[39m\u001b[38;5;124m'\u001b[39m)\n",
      "\u001b[0;31mIndexError\u001b[0m: invalid index to scalar variable."
     ]
    }
   ],
   "source": [
    "fname = client.query(f'hmi.sharp_720s[{harpnum[0]}][2012.03.07_00:24_TAI-2012.03.07_00:36:00_TAI]', seg='magnetogram') #for h in harpnum\n",
    "\n"
   ]
  },
  {
   "cell_type": "code",
   "execution_count": 54,
   "id": "22886801-dc7b-4bcc-bc80-9f66fff23038",
   "metadata": {},
   "outputs": [
    {
     "data": {
      "text/html": [
       "<div>\n",
       "<style scoped>\n",
       "    .dataframe tbody tr th:only-of-type {\n",
       "        vertical-align: middle;\n",
       "    }\n",
       "\n",
       "    .dataframe tbody tr th {\n",
       "        vertical-align: top;\n",
       "    }\n",
       "\n",
       "    .dataframe thead th {\n",
       "        text-align: right;\n",
       "    }\n",
       "</style>\n",
       "<table border=\"1\" class=\"dataframe\">\n",
       "  <thead>\n",
       "    <tr style=\"text-align: right;\">\n",
       "      <th></th>\n",
       "      <th>magnetogram</th>\n",
       "    </tr>\n",
       "  </thead>\n",
       "  <tbody>\n",
       "    <tr>\n",
       "      <th>0</th>\n",
       "      <td>/SUM94/D1039320232/S00000/magnetogram.fits</td>\n",
       "    </tr>\n",
       "    <tr>\n",
       "      <th>1</th>\n",
       "      <td>/SUM97/D1039320298/S00000/magnetogram.fits</td>\n",
       "    </tr>\n",
       "  </tbody>\n",
       "</table>\n",
       "</div>"
      ],
      "text/plain": [
       "                                  magnetogram\n",
       "0  /SUM94/D1039320232/S00000/magnetogram.fits\n",
       "1  /SUM97/D1039320298/S00000/magnetogram.fits"
      ]
     },
     "execution_count": 54,
     "metadata": {},
     "output_type": "execute_result"
    }
   ],
   "source": [
    "fname"
   ]
  },
  {
   "cell_type": "code",
   "execution_count": null,
   "id": "d2adacb7-512d-494f-bab9-fe40c27e7ca8",
   "metadata": {},
   "outputs": [],
   "source": [
    "# downloadFrames(dt.datetime(2012, 3, 7), \"0024\", \"N18E31\", .2, 600, \"X54\")\n"
   ]
  },
  {
   "cell_type": "code",
   "execution_count": 108,
   "id": "63e81201-120a-444c-a66f-aac20d4bc853",
   "metadata": {},
   "outputs": [
    {
     "name": "stdout",
     "output_type": "stream",
     "text": [
      "Showing the pickled data:\n",
      "[{'ARNUM': '1125', 'DATE': datetime.date(2010, 11, 13), 'LOCATION': 'N19E23', 'MAG_TYPE': 'Beta', 'LONGITUDE': '156', 'AREA': '0010', 'ZURICH_CLASSIFICATION': 'Bxo', 'LONG_EXTENT': '05', 'NUM_SUNSPOTS': '03', 'EVENTS': [{'DATE': '2010-02-19', 'START': 905, 'PEAK': 916, 'END': 933, 'LOCATION': 'S20W18', 'ARNUMBER': 11049.0, 'MAGNITUDE_HER': 'B2.7', 'MAGNITUDE_NOAA': 'B2.7'}, {'DATE': '2010-05-11', 'START': 839, 'PEAK': 843, 'END': 847, 'LOCATION': 'S20W19', 'ARNUMBER': 11068.0, 'MAGNITUDE_HER': nan, 'MAGNITUDE_NOAA': 'B1.1'}, {'DATE': '2010-05-24', 'START': 1305, 'PEAK': 1446, 'END': 1537, 'LOCATION': 'S14W19', 'ARNUMBER': 11072.0, 'MAGNITUDE_HER': 'B1.1', 'MAGNITUDE_NOAA': 'B1.1'}, {'DATE': '2010-05-24', 'START': 1305, 'PEAK': 1446, 'END': 1550, 'LOCATION': 'S15W18', 'ARNUMBER': 11072.0, 'MAGNITUDE_HER': 'B1.1', 'MAGNITUDE_NOAA': 'B1.1'}, {'DATE': '2010-07-27', 'START': 100, 'PEAK': 106, 'END': 107, 'LOCATION': 'S22W21', 'ARNUMBER': 11089.0, 'MAGNITUDE_HER': 'B5.5', 'MAGNITUDE_NOAA': nan}, {'DATE': '2010-07-27', 'START': 348, 'PEAK': 357, 'END': 409, 'LOCATION': 'S23W23', 'ARNUMBER': 11089.0, 'MAGNITUDE_HER': nan, 'MAGNITUDE_NOAA': 'B8.0'}, {'DATE': '2011-02-15', 'START': 1002, 'PEAK': 1007, 'END': 1016, 'LOCATION': 'S21W15', 'ARNUMBER': 11158.0, 'MAGNITUDE_HER': 'C1.0', 'MAGNITUDE_NOAA': 'C1.0'}, {'DATE': '2011-02-16', 'START': 58, 'PEAK': 100, 'END': 110, 'LOCATION': 'S22W23', 'ARNUMBER': 11158.0, 'MAGNITUDE_HER': 'C2.0', 'MAGNITUDE_NOAA': nan}, {'DATE': '2011-05-17', 'START': 104, 'PEAK': 109, 'END': 112, 'LOCATION': 'S24W16', 'ARNUMBER': nan, 'MAGNITUDE_HER': 'B3.5', 'MAGNITUDE_NOAA': 'B3.5'}, {'DATE': '2011-05-17', 'START': 235, 'PEAK': 243, 'END': 248, 'LOCATION': 'S24W17', 'ARNUMBER': nan, 'MAGNITUDE_HER': 'B4.1', 'MAGNITUDE_NOAA': 'B4.1'}, {'DATE': '2011-06-05', 'START': 211, 'PEAK': 214, 'END': 217, 'LOCATION': 'S23W23', 'ARNUMBER': nan, 'MAGNITUDE_HER': 'B3.5', 'MAGNITUDE_NOAA': 'B3.5'}, {'DATE': '2011-06-15', 'START': 1419, 'PEAK': 1432, 'END': 1445, 'LOCATION': 'S16W17', 'ARNUMBER': 11234.0, 'MAGNITUDE_HER': 'C3.2', 'MAGNITUDE_NOAA': 'C3.2'}, {'DATE': '2011-06-15', 'START': 1519, 'PEAK': 1525, 'END': 1530, 'LOCATION': 'S15W17', 'ARNUMBER': 11234.0, 'MAGNITUDE_HER': 'B8.3', 'MAGNITUDE_NOAA': 'B8.3'}, {'DATE': '2011-06-15', 'START': 1713, 'PEAK': 1718, 'END': 1727, 'LOCATION': 'S15W18', 'ARNUMBER': 11234.0, 'MAGNITUDE_HER': 'B6.3', 'MAGNITUDE_NOAA': 'B6.3'}, {'DATE': '2011-07-11', 'START': 1047, 'PEAK': 1103, 'END': 1110, 'LOCATION': 'S18W19', 'ARNUMBER': 11247.0, 'MAGNITUDE_HER': 'C2.6', 'MAGNITUDE_NOAA': 'C2.6'}, {'DATE': '2011-09-19', 'START': 309, 'PEAK': 315, 'END': 324, 'LOCATION': 'S19W15', 'ARNUMBER': 11299.0, 'MAGNITUDE_HER': 'C1.3', 'MAGNITUDE_NOAA': nan}, {'DATE': '2011-10-17', 'START': 1315, 'PEAK': 1424, 'END': 1540, 'LOCATION': 'S10W18', 'ARNUMBER': 11316.0, 'MAGNITUDE_HER': 'C2.3', 'MAGNITUDE_NOAA': nan}, {'DATE': '2011-11-25', 'START': 4, 'PEAK': 42, 'END': 150, 'LOCATION': 'S20W21', 'ARNUMBER': 11354.0, 'MAGNITUDE_HER': 'C1.5', 'MAGNITUDE_NOAA': nan}, {'DATE': '2011-12-22', 'START': 156, 'PEAK': 208, 'END': 220, 'LOCATION': 'S18W18', 'ARNUMBER': 11381.0, 'MAGNITUDE_HER': 'C5.4', 'MAGNITUDE_NOAA': 'C5.4'}, {'DATE': '2011-12-25', 'START': 447, 'PEAK': 452, 'END': 455, 'LOCATION': 'S23W16', 'ARNUMBER': 11385.0, 'MAGNITUDE_HER': 'C1.6', 'MAGNITUDE_NOAA': 'C1.6'}, {'DATE': '2011-12-25', 'START': 849, 'PEAK': 855, 'END': 901, 'LOCATION': 'S21W18', 'ARNUMBER': 11387.0, 'MAGNITUDE_HER': 'C5.5', 'MAGNITUDE_NOAA': 'C5.5'}, {'DATE': '2012-03-08', 'START': 1958, 'PEAK': 2022, 'END': 2033, 'LOCATION': 'S16W15', 'ARNUMBER': 11428.0, 'MAGNITUDE_HER': 'C1.7', 'MAGNITUDE_NOAA': 'C1.7'}, {'DATE': '2012-04-22', 'START': 926, 'PEAK': 928, 'END': 930, 'LOCATION': 'S15W21', 'ARNUMBER': 11459.0, 'MAGNITUDE_HER': 'C1.0', 'MAGNITUDE_NOAA': 'C1.0'}, {'DATE': '2012-04-22', 'START': 1632, 'PEAK': 1639, 'END': 1648, 'LOCATION': 'S14W22', 'ARNUMBER': 11459.0, 'MAGNITUDE_HER': 'C1.2', 'MAGNITUDE_NOAA': 'C1.2'}, {'DATE': '2012-04-22', 'START': 2105, 'PEAK': 2110, 'END': 2117, 'LOCATION': 'S15W23', 'ARNUMBER': 11459.0, 'MAGNITUDE_HER': 'C1.7', 'MAGNITUDE_NOAA': 'C1.7'}, {'DATE': '2012-05-05', 'START': 555, 'PEAK': 639, 'END': 701, 'LOCATION': 'S18W15', 'ARNUMBER': 11471.0, 'MAGNITUDE_HER': 'C2.0', 'MAGNITUDE_NOAA': 'C2.0'}, {'DATE': '2012-06-08', 'START': 251, 'PEAK': 307, 'END': 322, 'LOCATION': 'S19W21', 'ARNUMBER': 11494.0, 'MAGNITUDE_HER': 'C7.7', 'MAGNITUDE_NOAA': 'C7.7'}, {'DATE': '2012-06-16', 'START': 1311, 'PEAK': 1324, 'END': 1329, 'LOCATION': 'S16W19', 'ARNUMBER': 11504.0, 'MAGNITUDE_HER': 'B9.2', 'MAGNITUDE_NOAA': nan}, {'DATE': '2012-06-16', 'START': 1444, 'PEAK': 1453, 'END': 1459, 'LOCATION': 'S16W20', 'ARNUMBER': 11504.0, 'MAGNITUDE_HER': 'C1.8', 'MAGNITUDE_NOAA': 'C1.8'}, {'DATE': '2012-07-03', 'START': 2014, 'PEAK': 2017, 'END': 2019, 'LOCATION': 'S13W17', 'ARNUMBER': 11514.0, 'MAGNITUDE_HER': 'C3.5', 'MAGNITUDE_NOAA': 'C3.5'}, {'DATE': '2012-07-04', 'START': 428, 'PEAK': 437, 'END': 445, 'LOCATION': 'S16W18', 'ARNUMBER': 11515.0, 'MAGNITUDE_HER': 'M2.3', 'MAGNITUDE_NOAA': 'M2.3'}, {'DATE': '2012-07-04', 'START': 900, 'PEAK': 906, 'END': 909, 'LOCATION': 'S18W17', 'ARNUMBER': 11515.0, 'MAGNITUDE_HER': 'C6.7', 'MAGNITUDE_NOAA': 'C6.7'}, {'DATE': '2012-07-04', 'START': 947, 'PEAK': 954, 'END': 957, 'LOCATION': 'S18W17', 'ARNUMBER': 11515.0, 'MAGNITUDE_HER': 'M5.3', 'MAGNITUDE_NOAA': nan}, {'DATE': '2012-07-04', 'START': 1113, 'PEAK': 1114, 'END': 1119, 'LOCATION': 'S19W16', 'ARNUMBER': 11515.0, 'MAGNITUDE_HER': 'C5.8', 'MAGNITUDE_NOAA': nan}, {'DATE': '2012-07-04', 'START': 1207, 'PEAK': 1224, 'END': 1232, 'LOCATION': 'S17W22', 'ARNUMBER': 11515.0, 'MAGNITUDE_HER': 'M2.3', 'MAGNITUDE_NOAA': 'M2.3'}, {'DATE': '2012-07-04', 'START': 1410, 'PEAK': 1413, 'END': 1417, 'LOCATION': 'S17W19', 'ARNUMBER': 11515.0, 'MAGNITUDE_HER': 'C5.6', 'MAGNITUDE_NOAA': 'C5.6'}, {'DATE': '2012-07-04', 'START': 1435, 'PEAK': 1440, 'END': 1442, 'LOCATION': 'S18W20', 'ARNUMBER': 11515.0, 'MAGNITUDE_HER': 'M1.3', 'MAGNITUDE_NOAA': 'M1.3'}, {'DATE': '2012-07-04', 'START': 1445, 'PEAK': 1449, 'END': 1452, 'LOCATION': 'S17W20', 'ARNUMBER': 11515.0, 'MAGNITUDE_HER': 'C8.2', 'MAGNITUDE_NOAA': 'C8.2'}, {'DATE': '2012-07-04', 'START': 1547, 'PEAK': 1550, 'END': 1552, 'LOCATION': 'S17W23', 'ARNUMBER': 11515.0, 'MAGNITUDE_HER': 'C6.4', 'MAGNITUDE_NOAA': 'C6.4'}, {'DATE': '2012-07-04', 'START': 1608, 'PEAK': 1612, 'END': 1615, 'LOCATION': 'S17W21', 'ARNUMBER': 11515.0, 'MAGNITUDE_HER': 'C6.9', 'MAGNITUDE_NOAA': 'C6.9'}, {'DATE': '2012-07-04', 'START': 403, 'PEAK': 410, 'END': 421, 'LOCATION': 'S17W23', 'ARNUMBER': 11514.0, 'MAGNITUDE_HER': nan, 'MAGNITUDE_NOAA': 'C6.1'}, {'DATE': '2012-07-04', 'START': 947, 'PEAK': 955, 'END': 957, 'LOCATION': 'S20W18', 'ARNUMBER': 11515.0, 'MAGNITUDE_HER': nan, 'MAGNITUDE_NOAA': 'M5.3'}, {'DATE': '2012-07-13', 'START': 1900, 'PEAK': 1904, 'END': 1904, 'LOCATION': 'S12W16', 'ARNUMBER': 11520.0, 'MAGNITUDE_HER': 'C1.3', 'MAGNITUDE_NOAA': 'C1.3'}, {'DATE': '2012-07-13', 'START': 2201, 'PEAK': 2210, 'END': 2219, 'LOCATION': 'S13W19', 'ARNUMBER': 11520.0, 'MAGNITUDE_HER': 'C2.4', 'MAGNITUDE_NOAA': 'C2.4'}, {'DATE': '2012-07-13', 'START': 2228, 'PEAK': 2235, 'END': 2242, 'LOCATION': 'S13W19', 'ARNUMBER': 11520.0, 'MAGNITUDE_HER': 'C2.1', 'MAGNITUDE_NOAA': 'C2.1'}, {'DATE': '2012-07-14', 'START': 1538, 'PEAK': 1544, 'END': 1549, 'LOCATION': 'S16W23', 'ARNUMBER': 11520.0, 'MAGNITUDE_HER': 'C2.5', 'MAGNITUDE_NOAA': 'C2.5'}, {'DATE': '2012-08-02', 'START': 453, 'PEAK': 456, 'END': 459, 'LOCATION': 'S20W15', 'ARNUMBER': 11532.0, 'MAGNITUDE_HER': 'C1.5', 'MAGNITUDE_NOAA': 'C1.5'}, {'DATE': '2012-08-18', 'START': 1135, 'PEAK': 1139, 'END': 1141, 'LOCATION': 'S13W18', 'ARNUMBER': 11547.0, 'MAGNITUDE_HER': 'B6.0', 'MAGNITUDE_NOAA': nan}, {'DATE': '2012-09-09', 'START': 1451, 'PEAK': 1458, 'END': 1505, 'LOCATION': 'S10W21', 'ARNUMBER': 11568.0, 'MAGNITUDE_HER': 'C1.7', 'MAGNITUDE_NOAA': 'C1.7'}, {'DATE': '2012-11-25', 'START': 2214, 'PEAK': 2218, 'END': 2233, 'LOCATION': 'S12W15', 'ARNUMBER': 11620.0, 'MAGNITUDE_HER': nan, 'MAGNITUDE_NOAA': 'C1.4'}, {'DATE': '2012-11-26', 'START': 846, 'PEAK': 850, 'END': 934, 'LOCATION': 'S13W21', 'ARNUMBER': 11620.0, 'MAGNITUDE_HER': nan, 'MAGNITUDE_NOAA': 'C1.5'}, {'DATE': '2012-11-26', 'START': 1201, 'PEAK': 1212, 'END': 1220, 'LOCATION': 'S13W21', 'ARNUMBER': 11620.0, 'MAGNITUDE_HER': nan, 'MAGNITUDE_NOAA': 'C1.9'}, {'DATE': '2013-04-07', 'START': 528, 'PEAK': 555, 'END': 610, 'LOCATION': 'S23W16', 'ARNUMBER': 11711.0, 'MAGNITUDE_HER': 'B8.1', 'MAGNITUDE_NOAA': nan}, {'DATE': '2013-05-26', 'START': 1832, 'PEAK': 1855, 'END': 1916, 'LOCATION': 'S15W16', 'ARNUMBER': 11756.0, 'MAGNITUDE_HER': 'C1.3', 'MAGNITUDE_NOAA': nan}, {'DATE': '2013-06-04', 'START': 409, 'PEAK': 420, 'END': 423, 'LOCATION': 'S19W17', 'ARNUMBER': 11761.0, 'MAGNITUDE_HER': 'B5.7', 'MAGNITUDE_NOAA': 'B5.7'}, {'DATE': '2013-06-28', 'START': 136, 'PEAK': 159, 'END': 228, 'LOCATION': 'S18W19', 'ARNUMBER': 11777.0, 'MAGNITUDE_HER': nan, 'MAGNITUDE_NOAA': 'C4.4'}, {'DATE': '2013-06-30', 'START': 515, 'PEAK': 520, 'END': 531, 'LOCATION': 'S16W20', 'ARNUMBER': 11778.0, 'MAGNITUDE_HER': nan, 'MAGNITUDE_NOAA': 'B4.1'}, {'DATE': '2013-06-30', 'START': 911, 'PEAK': 918, 'END': 927, 'LOCATION': 'S16W19', 'ARNUMBER': 11778.0, 'MAGNITUDE_HER': nan, 'MAGNITUDE_NOAA': 'C1.5'}, {'DATE': '2013-07-09', 'START': 1325, 'PEAK': 1332, 'END': 1336, 'LOCATION': 'S12W21', 'ARNUMBER': 11785.0, 'MAGNITUDE_HER': nan, 'MAGNITUDE_NOAA': 'C2.3'}, {'DATE': '2013-10-09', 'START': 2020, 'PEAK': 2027, 'END': 2032, 'LOCATION': 'S08W19', 'ARNUMBER': 11857.0, 'MAGNITUDE_HER': nan, 'MAGNITUDE_NOAA': 'B7.2'}, {'DATE': '2013-11-15', 'START': 543, 'PEAK': 546, 'END': 548, 'LOCATION': 'S19W15', 'ARNUMBER': 11900.0, 'MAGNITUDE_HER': nan, 'MAGNITUDE_NOAA': 'C1.6'}, {'DATE': '2013-11-16', 'START': 1740, 'PEAK': 1747, 'END': 1752, 'LOCATION': 'S12W16', 'ARNUMBER': 11893.0, 'MAGNITUDE_HER': nan, 'MAGNITUDE_NOAA': 'C2.5'}, {'DATE': '2013-11-17', 'START': 2017, 'PEAK': 2021, 'END': 2026, 'LOCATION': 'S15W20', 'ARNUMBER': 11897.0, 'MAGNITUDE_HER': nan, 'MAGNITUDE_NOAA': 'C3.4'}, {'DATE': '2013-12-14', 'START': 926, 'PEAK': 940, 'END': 943, 'LOCATION': 'S17W18', 'ARNUMBER': 11917.0, 'MAGNITUDE_HER': 'C1.1', 'MAGNITUDE_NOAA': 'C1.1'}, {'DATE': '2013-12-14', 'START': 1513, 'PEAK': 1537, 'END': 1555, 'LOCATION': 'S12W19', 'ARNUMBER': 11917.0, 'MAGNITUDE_HER': 'C1.7', 'MAGNITUDE_NOAA': 'C1.6'}, {'DATE': '2013-12-14', 'START': 1514, 'PEAK': 1537, 'END': 1556, 'LOCATION': 'S12W19', 'ARNUMBER': 11917.0, 'MAGNITUDE_HER': 'C1.6', 'MAGNITUDE_NOAA': 'C1.6'}, {'DATE': '2013-12-19', 'START': 1939, 'PEAK': 1942, 'END': 1945, 'LOCATION': 'S15W23', 'ARNUMBER': 11925.0, 'MAGNITUDE_HER': 'C1.4', 'MAGNITUDE_NOAA': 'C1.4'}, {'DATE': '2013-12-26', 'START': 655, 'PEAK': 702, 'END': 707, 'LOCATION': 'S16W23', 'ARNUMBER': 11931.0, 'MAGNITUDE_HER': 'C2.2', 'MAGNITUDE_NOAA': 'C2.2'}, {'DATE': '2013-12-27', 'START': 934, 'PEAK': 938, 'END': 945, 'LOCATION': 'S19W17', 'ARNUMBER': 11934.0, 'MAGNITUDE_HER': 'C1.7', 'MAGNITUDE_NOAA': 'C1.7'}, {'DATE': '2013-12-27', 'START': 1110, 'PEAK': 1122, 'END': 1128, 'LOCATION': 'S19W18', 'ARNUMBER': 11934.0, 'MAGNITUDE_HER': 'C2.0', 'MAGNITUDE_NOAA': 'C2.0'}, {'DATE': '2013-12-27', 'START': 1330, 'PEAK': 1340, 'END': 1348, 'LOCATION': 'S19W20', 'ARNUMBER': 11934.0, 'MAGNITUDE_HER': 'C1.7', 'MAGNITUDE_NOAA': 'C1.7'}, {'DATE': '2013-12-27', 'START': 1524, 'PEAK': 1529, 'END': 1536, 'LOCATION': 'S18W21', 'ARNUMBER': 11934.0, 'MAGNITUDE_HER': 'B7.8', 'MAGNITUDE_NOAA': 'B7.8'}, {'DATE': '2013-12-30', 'START': 1638, 'PEAK': 1643, 'END': 1643, 'LOCATION': 'S15W16', 'ARNUMBER': 11936.0, 'MAGNITUDE_HER': 'C2.4', 'MAGNITUDE_NOAA': 'C2.4'}, {'DATE': '2013-12-30', 'START': 1741, 'PEAK': 1813, 'END': 1822, 'LOCATION': 'S17W20', 'ARNUMBER': 11936.0, 'MAGNITUDE_HER': 'C1.7', 'MAGNITUDE_NOAA': 'C1.7'}, {'DATE': '2013-12-31', 'START': 1820, 'PEAK': 1825, 'END': 1831, 'LOCATION': 'S16W16', 'ARNUMBER': 11936.0, 'MAGNITUDE_HER': nan, 'MAGNITUDE_NOAA': 'C1.8'}, {'DATE': '2014-01-22', 'START': 1857, 'PEAK': 1905, 'END': 1917, 'LOCATION': 'S15W16', 'ARNUMBER': 11955.0, 'MAGNITUDE_HER': 'C1.3', 'MAGNITUDE_NOAA': 'C1.3'}, {'DATE': '2014-02-04', 'START': 1927, 'PEAK': 1941, 'END': 1954, 'LOCATION': 'S14W16', 'ARNUMBER': 11967.0, 'MAGNITUDE_HER': 'C5.4', 'MAGNITUDE_NOAA': 'C5.4'}, {'DATE': '2014-02-04', 'START': 2013, 'PEAK': 2020, 'END': 2027, 'LOCATION': 'S14W16', 'ARNUMBER': 11967.0, 'MAGNITUDE_HER': 'C4.4', 'MAGNITUDE_NOAA': 'C4.4'}, {'DATE': '2014-02-04', 'START': 2128, 'PEAK': 2135, 'END': 2142, 'LOCATION': 'S14W17', 'ARNUMBER': 11967.0, 'MAGNITUDE_HER': 'C5.5', 'MAGNITUDE_NOAA': 'C5.5'}, {'DATE': '2014-02-13', 'START': 1233, 'PEAK': 1242, 'END': 1316, 'LOCATION': 'S11W15', 'ARNUMBER': 11974.0, 'MAGNITUDE_HER': 'C3.0', 'MAGNITUDE_NOAA': 'C3.0'}, {'DATE': '2014-02-13', 'START': 1545, 'PEAK': 1557, 'END': 1606, 'LOCATION': 'S11W16', 'ARNUMBER': 11974.0, 'MAGNITUDE_HER': 'M1.4', 'MAGNITUDE_NOAA': 'M1.4'}, {'DATE': '2014-02-13', 'START': 1950, 'PEAK': 1953, 'END': 1958, 'LOCATION': 'S11W19', 'ARNUMBER': 11974.0, 'MAGNITUDE_HER': 'C6.6', 'MAGNITUDE_NOAA': nan}, {'DATE': '2014-02-13', 'START': 2132, 'PEAK': 2138, 'END': 2143, 'LOCATION': 'S11W18', 'ARNUMBER': 11974.0, 'MAGNITUDE_HER': 'C2.7', 'MAGNITUDE_NOAA': 'C2.7'}, {'DATE': '2014-02-17', 'START': 2107, 'PEAK': 2112, 'END': 2120, 'LOCATION': 'S11W19', 'ARNUMBER': 11977.0, 'MAGNITUDE_HER': 'C1.8', 'MAGNITUDE_NOAA': 'C1.8'}, {'DATE': '2014-02-24', 'START': 1534, 'PEAK': 1549, 'END': 1605, 'LOCATION': 'S10W15', 'ARNUMBER': 11982.0, 'MAGNITUDE_HER': 'C2.4', 'MAGNITUDE_NOAA': nan}, {'DATE': '2014-03-21', 'START': 2220, 'PEAK': 2224, 'END': 2226, 'LOCATION': 'S09W21', 'ARNUMBER': 12008.0, 'MAGNITUDE_HER': 'C1.5', 'MAGNITUDE_NOAA': 'C1.5'}, {'DATE': '2014-03-22', 'START': 1259, 'PEAK': 1303, 'END': 1306, 'LOCATION': 'S14W22', 'ARNUMBER': 12008.0, 'MAGNITUDE_HER': 'C1.4', 'MAGNITUDE_NOAA': 'C1.4'}, {'DATE': '2014-03-26', 'START': 1059, 'PEAK': 1102, 'END': 1104, 'LOCATION': 'S12W15', 'ARNUMBER': 12014.0, 'MAGNITUDE_HER': 'C1.5', 'MAGNITUDE_NOAA': 'C1.5'}, {'DATE': '2014-04-21', 'START': 2209, 'PEAK': 2229, 'END': 2246, 'LOCATION': 'S11W18', 'ARNUMBER': 12038.0, 'MAGNITUDE_HER': nan, 'MAGNITUDE_NOAA': 'C3.0'}, {'DATE': '2014-06-18', 'START': 312, 'PEAK': 330, 'END': 331, 'LOCATION': 'S22W22', 'ARNUMBER': 12087.0, 'MAGNITUDE_HER': 'C4.0', 'MAGNITUDE_NOAA': nan}, {'DATE': '2014-06-18', 'START': 312, 'PEAK': 331, 'END': 350, 'LOCATION': 'S22W22', 'ARNUMBER': 12087.0, 'MAGNITUDE_HER': 'C4.0', 'MAGNITUDE_NOAA': 'C4.0'}, {'DATE': '2014-06-22', 'START': 1713, 'PEAK': 1740, 'END': 1752, 'LOCATION': 'S10W19', 'ARNUMBER': 12093.0, 'MAGNITUDE_HER': 'B3.4', 'MAGNITUDE_NOAA': 'B3.4'}, {'DATE': '2014-08-07', 'START': 305, 'PEAK': 309, 'END': 317, 'LOCATION': 'S18W19', 'ARNUMBER': 12132.0, 'MAGNITUDE_HER': 'B7.7', 'MAGNITUDE_NOAA': 'B7.7'}, {'DATE': '2014-08-15', 'START': 1005, 'PEAK': 1010, 'END': 1017, 'LOCATION': 'S18W22', 'ARNUMBER': 12144.0, 'MAGNITUDE_HER': 'B9.0', 'MAGNITUDE_NOAA': 'B9.0'}, {'DATE': '2014-09-27', 'START': 645, 'PEAK': 650, 'END': 655, 'LOCATION': 'S17W15', 'ARNUMBER': 12173.0, 'MAGNITUDE_HER': 'C2.4', 'MAGNITUDE_NOAA': 'C2.4'}, {'DATE': '2014-09-28', 'START': 1055, 'PEAK': 1059, 'END': 1102, 'LOCATION': 'S12W22', 'ARNUMBER': 12172.0, 'MAGNITUDE_HER': nan, 'MAGNITUDE_NOAA': 'C2.9'}, {'DATE': '2014-10-24', 'START': 1431, 'PEAK': 1506, 'END': 1554, 'LOCATION': 'S16W15', 'ARNUMBER': 12192.0, 'MAGNITUDE_HER': 'C5.1', 'MAGNITUDE_NOAA': 'C5.1'}, {'DATE': '2014-10-25', 'START': 1213, 'PEAK': 1220, 'END': 1225, 'LOCATION': 'S13W22', 'ARNUMBER': 12192.0, 'MAGNITUDE_HER': 'C3.2', 'MAGNITUDE_NOAA': 'C3.2'}, {'DATE': '2014-10-25', 'START': 1500, 'PEAK': 1503, 'END': 1508, 'LOCATION': 'S13W23', 'ARNUMBER': 12192.0, 'MAGNITUDE_HER': 'C5.1', 'MAGNITUDE_NOAA': nan}, {'DATE': '2014-10-25', 'START': 1544, 'PEAK': 1551, 'END': 1552, 'LOCATION': 'S13W23', 'ARNUMBER': 12192.0, 'MAGNITUDE_HER': 'C9.7', 'MAGNITUDE_NOAA': nan}, {'DATE': '2014-10-25', 'START': 1544, 'PEAK': 1551, 'END': 1615, 'LOCATION': 'S13W23', 'ARNUMBER': 12192.0, 'MAGNITUDE_HER': 'C9.7', 'MAGNITUDE_NOAA': nan}, {'DATE': '2014-10-25', 'START': 1655, 'PEAK': 1708, 'END': 1708, 'LOCATION': 'S10W22', 'ARNUMBER': 12192.0, 'MAGNITUDE_HER': 'X1.0', 'MAGNITUDE_NOAA': 'X1.0'}, {'DATE': '2014-11-21', 'START': 2325, 'PEAK': 2333, 'END': 2339, 'LOCATION': 'S13W20', 'ARNUMBER': 12209.0, 'MAGNITUDE_HER': 'C1.1', 'MAGNITUDE_NOAA': 'C1.1'}, {'DATE': '2014-12-03', 'START': 811, 'PEAK': 818, 'END': 821, 'LOCATION': 'S21W15', 'ARNUMBER': 12222.0, 'MAGNITUDE_HER': 'C1.5', 'MAGNITUDE_NOAA': 'C1.5'}, {'DATE': '2014-12-03', 'START': 1305, 'PEAK': 1310, 'END': 1315, 'LOCATION': 'S20W15', 'ARNUMBER': 12222.0, 'MAGNITUDE_HER': 'C2.7', 'MAGNITUDE_NOAA': 'C2.7'}, {'DATE': '2014-12-03', 'START': 1322, 'PEAK': 1326, 'END': 1331, 'LOCATION': 'S20W15', 'ARNUMBER': 12222.0, 'MAGNITUDE_HER': 'C3.8', 'MAGNITUDE_NOAA': 'C3.8'}, {'DATE': '2014-12-19', 'START': 209, 'PEAK': 213, 'END': 218, 'LOCATION': 'S19W19', 'ARNUMBER': 12242.0, 'MAGNITUDE_HER': 'C4.2', 'MAGNITUDE_NOAA': 'C4.2'}, {'DATE': '2014-12-19', 'START': 338, 'PEAK': 342, 'END': 346, 'LOCATION': 'S17W20', 'ARNUMBER': 12242.0, 'MAGNITUDE_HER': 'C4.0', 'MAGNITUDE_NOAA': 'C4.0'}, {'DATE': '2014-12-19', 'START': 1443, 'PEAK': 1447, 'END': 1456, 'LOCATION': 'S19W23', 'ARNUMBER': 12242.0, 'MAGNITUDE_HER': 'C1.9', 'MAGNITUDE_NOAA': 'C1.9'}, {'DATE': '2015-01-05', 'START': 2203, 'PEAK': 2213, 'END': 2213, 'LOCATION': 'S05W17', 'ARNUMBER': 12253.0, 'MAGNITUDE_HER': 'C4.1', 'MAGNITUDE_NOAA': 'C4.1'}, {'DATE': '2015-01-05', 'START': 2203, 'PEAK': 2213, 'END': 2220, 'LOCATION': 'S06W16', 'ARNUMBER': 12253.0, 'MAGNITUDE_HER': 'C4.1', 'MAGNITUDE_NOAA': 'C4.1'}, {'DATE': '2015-01-06', 'START': 1710, 'PEAK': 1714, 'END': 1718, 'LOCATION': 'S08W22', 'ARNUMBER': 12253.0, 'MAGNITUDE_HER': 'C1.7', 'MAGNITUDE_NOAA': 'C1.7'}, {'DATE': '2015-02-28', 'START': 733, 'PEAK': 747, 'END': 755, 'LOCATION': 'S14W18', 'ARNUMBER': 12294.0, 'MAGNITUDE_HER': nan, 'MAGNITUDE_NOAA': 'C1.1'}, {'DATE': '2015-03-14', 'START': 756, 'PEAK': 801, 'END': 806, 'LOCATION': 'S16W15', 'ARNUMBER': 12297.0, 'MAGNITUDE_HER': 'C1.3', 'MAGNITUDE_NOAA': nan}, {'DATE': '2015-03-14', 'START': 1144, 'PEAK': 1155, 'END': 1155, 'LOCATION': 'S19W20', 'ARNUMBER': 12297.0, 'MAGNITUDE_HER': 'C2.6', 'MAGNITUDE_NOAA': 'C2.6'}, {'DATE': '2015-03-14', 'START': 1321, 'PEAK': 1326, 'END': 1330, 'LOCATION': 'S15W18', 'ARNUMBER': 12297.0, 'MAGNITUDE_HER': 'C1.7', 'MAGNITUDE_NOAA': 'C1.7'}, {'DATE': '2015-03-14', 'START': 1837, 'PEAK': 1845, 'END': 1848, 'LOCATION': 'S16W22', 'ARNUMBER': 12297.0, 'MAGNITUDE_HER': 'C5.3', 'MAGNITUDE_NOAA': 'C5.3'}, {'DATE': '2015-03-14', 'START': 1912, 'PEAK': 1916, 'END': 1921, 'LOCATION': 'S15W21', 'ARNUMBER': 12297.0, 'MAGNITUDE_HER': 'C1.4', 'MAGNITUDE_NOAA': 'C1.4'}, {'DATE': '2015-03-14', 'START': 756, 'PEAK': 802, 'END': 806, 'LOCATION': 'S17W15', 'ARNUMBER': 12297.0, 'MAGNITUDE_HER': nan, 'MAGNITUDE_NOAA': 'C1.3'}, {'DATE': '2015-04-09', 'START': 1256, 'PEAK': 1301, 'END': 1316, 'LOCATION': 'S14W16', 'ARNUMBER': 12320.0, 'MAGNITUDE_HER': 'B5.1', 'MAGNITUDE_NOAA': 'B5.1'}, {'DATE': '2015-04-09', 'START': 1433, 'PEAK': 1444, 'END': 1453, 'LOCATION': 'S13W18', 'ARNUMBER': 12320.0, 'MAGNITUDE_HER': 'B6.7', 'MAGNITUDE_NOAA': 'B6.7'}, {'DATE': '2015-04-09', 'START': 1713, 'PEAK': 1729, 'END': 1738, 'LOCATION': 'S13W21', 'ARNUMBER': 12320.0, 'MAGNITUDE_HER': 'C5.9', 'MAGNITUDE_NOAA': 'C5.9'}, {'DATE': '2015-04-09', 'START': 1713, 'PEAK': 1729, 'END': 1745, 'LOCATION': 'S13W21', 'ARNUMBER': 12320.0, 'MAGNITUDE_HER': 'C5.9', 'MAGNITUDE_NOAA': 'C5.9'}, {'DATE': '2015-04-09', 'START': 1851, 'PEAK': 1901, 'END': 1905, 'LOCATION': 'S13W21', 'ARNUMBER': 12320.0, 'MAGNITUDE_HER': 'C6.2', 'MAGNITUDE_NOAA': 'C6.2'}, {'DATE': '2015-04-09', 'START': 2015, 'PEAK': 2019, 'END': 2022, 'LOCATION': 'S14W19', 'ARNUMBER': 12320.0, 'MAGNITUDE_HER': 'B6.9', 'MAGNITUDE_NOAA': 'B6.9'}, {'DATE': '2015-04-09', 'START': 2336, 'PEAK': 2344, 'END': 2345, 'LOCATION': 'S14W20', 'ARNUMBER': 12320.0, 'MAGNITUDE_HER': 'C3.3', 'MAGNITUDE_NOAA': nan}, {'DATE': '2015-04-23', 'START': 1956, 'PEAK': 1959, 'END': 2005, 'LOCATION': 'S10W19', 'ARNUMBER': 12331.0, 'MAGNITUDE_HER': 'C3.0', 'MAGNITUDE_NOAA': 'C3.0'}, {'DATE': '2015-05-23', 'START': 115, 'PEAK': 122, 'END': 122, 'LOCATION': 'S23W19', 'ARNUMBER': 12349.0, 'MAGNITUDE_HER': 'B4.0', 'MAGNITUDE_NOAA': 'B4.0'}, {'DATE': '2015-06-18', 'START': 628, 'PEAK': 631, 'END': 633, 'LOCATION': 'S18W16', 'ARNUMBER': 12367.0, 'MAGNITUDE_HER': 'C2.3', 'MAGNITUDE_NOAA': 'C2.3'}, {'DATE': '2015-08-19', 'START': 1558, 'PEAK': 1601, 'END': 1603, 'LOCATION': 'S09W23', 'ARNUMBER': 12401.0, 'MAGNITUDE_HER': 'B4.5', 'MAGNITUDE_NOAA': 'B4.5'}, {'DATE': '2015-08-24', 'START': 1949, 'PEAK': 1953, 'END': 1957, 'LOCATION': 'S13W16', 'ARNUMBER': 12403.0, 'MAGNITUDE_HER': 'C1.2', 'MAGNITUDE_NOAA': 'C1.2'}, {'DATE': '2015-08-24', 'START': 2306, 'PEAK': 2309, 'END': 2311, 'LOCATION': 'S13W17', 'ARNUMBER': 12403.0, 'MAGNITUDE_HER': 'C1.1', 'MAGNITUDE_NOAA': 'C1.1'}, {'DATE': '2015-08-25', 'START': 758, 'PEAK': 803, 'END': 805, 'LOCATION': 'S15W18', 'ARNUMBER': 12403.0, 'MAGNITUDE_HER': 'C2.3', 'MAGNITUDE_NOAA': 'C2.3'}, {'DATE': '2015-08-25', 'START': 1155, 'PEAK': 1159, 'END': 1203, 'LOCATION': 'S17W18', 'ARNUMBER': 12403.0, 'MAGNITUDE_HER': 'C2.3', 'MAGNITUDE_NOAA': 'C2.3'}, {'DATE': '2015-08-25', 'START': 1356, 'PEAK': 1402, 'END': 1405, 'LOCATION': 'S17W18', 'ARNUMBER': 12403.0, 'MAGNITUDE_HER': 'B9.5', 'MAGNITUDE_NOAA': 'B9.5'}, {'DATE': '2015-08-25', 'START': 1537, 'PEAK': 1540, 'END': 1543, 'LOCATION': 'S17W21', 'ARNUMBER': 12403.0, 'MAGNITUDE_HER': 'B9.7', 'MAGNITUDE_NOAA': 'B9.7'}, {'DATE': '2015-08-25', 'START': 1714, 'PEAK': 1717, 'END': 1722, 'LOCATION': 'S17W20', 'ARNUMBER': 12403.0, 'MAGNITUDE_HER': 'C1.0', 'MAGNITUDE_NOAA': 'C1.0'}, {'DATE': '2015-08-25', 'START': 1947, 'PEAK': 1950, 'END': 1953, 'LOCATION': 'S16W23', 'ARNUMBER': 12403.0, 'MAGNITUDE_HER': 'B8.6', 'MAGNITUDE_NOAA': 'B8.6'}, {'DATE': '2015-09-11', 'START': 1643, 'PEAK': 1646, 'END': 1649, 'LOCATION': 'S10W17', 'ARNUMBER': 12414.0, 'MAGNITUDE_HER': 'B4.3', 'MAGNITUDE_NOAA': 'B4.3'}, {'DATE': '2015-09-11', 'START': 2130, 'PEAK': 2137, 'END': 2143, 'LOCATION': 'S09W17', 'ARNUMBER': 12414.0, 'MAGNITUDE_HER': 'C1.3', 'MAGNITUDE_NOAA': 'C1.3'}, {'DATE': '2015-09-18', 'START': 400, 'PEAK': 404, 'END': 417, 'LOCATION': 'S19W17', 'ARNUMBER': 12415.0, 'MAGNITUDE_HER': 'C1.0', 'MAGNITUDE_NOAA': 'C1.0'}, {'DATE': '2015-09-28', 'START': 618, 'PEAK': 654, 'END': 718, 'LOCATION': 'S21W23', 'ARNUMBER': 12422.0, 'MAGNITUDE_HER': 'C4.5', 'MAGNITUDE_NOAA': 'C4.5'}, {'DATE': '2015-09-28', 'START': 621, 'PEAK': 654, 'END': 708, 'LOCATION': 'S21W23', 'ARNUMBER': 12422.0, 'MAGNITUDE_HER': 'C4.5', 'MAGNITUDE_NOAA': 'C4.5'}, {'DATE': '2015-09-28', 'START': 727, 'PEAK': 734, 'END': 746, 'LOCATION': 'S21W22', 'ARNUMBER': 12422.0, 'MAGNITUDE_HER': 'M1.1', 'MAGNITUDE_NOAA': nan}, {'DATE': '2015-09-28', 'START': 727, 'PEAK': 735, 'END': 746, 'LOCATION': 'S22W20', 'ARNUMBER': 12422.0, 'MAGNITUDE_HER': nan, 'MAGNITUDE_NOAA': 'M1.1'}, {'DATE': '2015-10-26', 'START': 1021, 'PEAK': 1029, 'END': 1041, 'LOCATION': 'S21W23', 'ARNUMBER': 12437.0, 'MAGNITUDE_HER': 'C2.1', 'MAGNITUDE_NOAA': 'C2.1'}, {'DATE': '2015-12-29', 'START': 1011, 'PEAK': 1032, 'END': 1043, 'LOCATION': 'S19W23', 'ARNUMBER': 12473.0, 'MAGNITUDE_HER': 'C6.8', 'MAGNITUDE_NOAA': 'C6.8'}, {'DATE': '2016-02-06', 'START': 2148, 'PEAK': 2151, 'END': 2153, 'LOCATION': 'S11W16', 'ARNUMBER': 12494.0, 'MAGNITUDE_HER': 'B7.8', 'MAGNITUDE_NOAA': 'B7.8'}, {'DATE': '2016-05-21', 'START': 2230, 'PEAK': 2234, 'END': 2240, 'LOCATION': 'S09W23', 'ARNUMBER': 12546.0, 'MAGNITUDE_HER': 'B2.4', 'MAGNITUDE_NOAA': 'B2.4'}, {'DATE': '2016-09-25', 'START': 713, 'PEAK': 717, 'END': 728, 'LOCATION': 'S14W15', 'ARNUMBER': 12597.0, 'MAGNITUDE_HER': 'B2.0', 'MAGNITUDE_NOAA': 'B2.0'}, {'DATE': '2016-09-25', 'START': 1905, 'PEAK': 1914, 'END': 1921, 'LOCATION': 'S14W22', 'ARNUMBER': 12597.0, 'MAGNITUDE_HER': 'C1.3', 'MAGNITUDE_NOAA': 'C1.3'}, {'DATE': '2017-09-05', 'START': 1230, 'PEAK': 1234, 'END': 1239, 'LOCATION': 'S12W21', 'ARNUMBER': 12673.0, 'MAGNITUDE_HER': 'C2.2', 'MAGNITUDE_NOAA': 'C2.2'}, {'DATE': '2017-09-05', 'START': 1614, 'PEAK': 1619, 'END': 1622, 'LOCATION': 'S10W22', 'ARNUMBER': 12673.0, 'MAGNITUDE_HER': 'C3.7', 'MAGNITUDE_NOAA': 'C3.7'}, {'DATE': '2017-09-05', 'START': 1737, 'PEAK': 1743, 'END': 1751, 'LOCATION': 'S10W23', 'ARNUMBER': 12673.0, 'MAGNITUDE_HER': 'M2.3', 'MAGNITUDE_NOAA': 'M2.3'}, {'DATE': '2018-08-24', 'START': 2154, 'PEAK': 2158, 'END': 2201, 'LOCATION': 'S07W21', 'ARNUMBER': 12719.0, 'MAGNITUDE_HER': nan, 'MAGNITUDE_NOAA': 'B1.6'}, {'DATE': '2018-12-04', 'START': 2336, 'PEAK': 2340, 'END': 2347, 'LOCATION': 'S05W23', 'ARNUMBER': nan, 'MAGNITUDE_HER': 'A4.9', 'MAGNITUDE_NOAA': nan}, {'DATE': '2020-04-29', 'START': 2152, 'PEAK': 2241, 'END': 2308, 'LOCATION': 'S07W16', 'ARNUMBER': 12760.0, 'MAGNITUDE_HER': 'A5.3', 'MAGNITUDE_NOAA': nan}, {'DATE': '2020-04-29', 'START': 2313, 'PEAK': 2316, 'END': 2321, 'LOCATION': 'S07W17', 'ARNUMBER': 12760.0, 'MAGNITUDE_HER': 'A3.1', 'MAGNITUDE_NOAA': nan}, {'DATE': '2020-04-29', 'START': 2330, 'PEAK': 2342, 'END': 2354, 'LOCATION': 'S07W18', 'ARNUMBER': 12760.0, 'MAGNITUDE_HER': 'A4.1', 'MAGNITUDE_NOAA': nan}, {'DATE': '2020-10-27', 'START': 222, 'PEAK': 232, 'END': 239, 'LOCATION': 'S19W17', 'ARNUMBER': 12778.0, 'MAGNITUDE_HER': 'B2.0', 'MAGNITUDE_NOAA': 'B2.0'}, {'DATE': '2020-10-27', 'START': 321, 'PEAK': 325, 'END': 329, 'LOCATION': 'S21W15', 'ARNUMBER': 12778.0, 'MAGNITUDE_HER': 'B2.2', 'MAGNITUDE_NOAA': 'B2.2'}, {'DATE': '2020-10-27', 'START': 432, 'PEAK': 442, 'END': 446, 'LOCATION': 'S20W19', 'ARNUMBER': 12778.0, 'MAGNITUDE_HER': 'C1.4', 'MAGNITUDE_NOAA': 'C1.4'}, {'DATE': '2020-10-27', 'START': 537, 'PEAK': 547, 'END': 553, 'LOCATION': 'S20W20', 'ARNUMBER': 12778.0, 'MAGNITUDE_HER': 'B3.2', 'MAGNITUDE_NOAA': 'B3.2'}, {'DATE': '2020-10-27', 'START': 611, 'PEAK': 616, 'END': 621, 'LOCATION': 'S20W20', 'ARNUMBER': 12778.0, 'MAGNITUDE_HER': 'C4.3', 'MAGNITUDE_NOAA': 'C4.3'}, {'DATE': '2020-10-27', 'START': 713, 'PEAK': 719, 'END': 735, 'LOCATION': 'S21W21', 'ARNUMBER': 12778.0, 'MAGNITUDE_HER': 'B4.3', 'MAGNITUDE_NOAA': nan}, {'DATE': '2020-10-27', 'START': 735, 'PEAK': 740, 'END': 746, 'LOCATION': 'S21W19', 'ARNUMBER': 12778.0, 'MAGNITUDE_HER': 'B6.2', 'MAGNITUDE_NOAA': 'B6.2'}, {'DATE': '2020-10-27', 'START': 843, 'PEAK': 849, 'END': 904, 'LOCATION': 'S21W19', 'ARNUMBER': 12778.0, 'MAGNITUDE_HER': 'B3.2', 'MAGNITUDE_NOAA': 'B3.2'}, {'DATE': '2020-10-27', 'START': 937, 'PEAK': 943, 'END': 948, 'LOCATION': 'S21W21', 'ARNUMBER': 12778.0, 'MAGNITUDE_HER': 'B3.3', 'MAGNITUDE_NOAA': nan}, {'DATE': '2020-10-27', 'START': 947, 'PEAK': 952, 'END': 956, 'LOCATION': 'S21W20', 'ARNUMBER': 12778.0, 'MAGNITUDE_HER': 'C1.4', 'MAGNITUDE_NOAA': 'C1.4'}, {'DATE': '2020-10-27', 'START': 1107, 'PEAK': 1118, 'END': 1124, 'LOCATION': 'S21W21', 'ARNUMBER': 12778.0, 'MAGNITUDE_HER': 'C2.3', 'MAGNITUDE_NOAA': nan}, {'DATE': '2020-12-10', 'START': 1009, 'PEAK': 1022, 'END': 1029, 'LOCATION': 'S17W15', 'ARNUMBER': 12791.0, 'MAGNITUDE_HER': 'B1.7', 'MAGNITUDE_NOAA': 'B1.7'}, {'DATE': '2020-12-10', 'START': 1012, 'PEAK': 1022, 'END': 1036, 'LOCATION': 'S17W15', 'ARNUMBER': 12791.0, 'MAGNITUDE_HER': 'B1.8', 'MAGNITUDE_NOAA': 'B1.7'}, {'DATE': '2020-12-10', 'START': 1055, 'PEAK': 1100, 'END': 1101, 'LOCATION': 'S17W16', 'ARNUMBER': 12791.0, 'MAGNITUDE_HER': 'B1.0', 'MAGNITUDE_NOAA': 'B1.0'}, {'DATE': '2020-12-10', 'START': 1247, 'PEAK': 1257, 'END': 1303, 'LOCATION': 'S17W15', 'ARNUMBER': 12791.0, 'MAGNITUDE_HER': 'B3.1', 'MAGNITUDE_NOAA': 'B3.1'}, {'DATE': '2020-12-10', 'START': 1251, 'PEAK': 1257, 'END': 1428, 'LOCATION': 'S17W15', 'ARNUMBER': 12791.0, 'MAGNITUDE_HER': 'B3.1', 'MAGNITUDE_NOAA': 'B3.1'}, {'DATE': '2020-12-10', 'START': 1303, 'PEAK': 1311, 'END': 1318, 'LOCATION': 'S17W17', 'ARNUMBER': 12791.0, 'MAGNITUDE_HER': 'B2.7', 'MAGNITUDE_NOAA': 'B2.7'}, {'DATE': '2020-12-10', 'START': 1500, 'PEAK': 1550, 'END': 1642, 'LOCATION': 'S18W17', 'ARNUMBER': 12791.0, 'MAGNITUDE_HER': 'B2.8', 'MAGNITUDE_NOAA': 'B2.7'}, {'DATE': '2020-12-10', 'START': 1503, 'PEAK': 1550, 'END': 1624, 'LOCATION': 'S18W17', 'ARNUMBER': 12791.0, 'MAGNITUDE_HER': 'B2.7', 'MAGNITUDE_NOAA': 'B2.7'}, {'DATE': '2020-12-10', 'START': 1805, 'PEAK': 1818, 'END': 1828, 'LOCATION': 'S16W17', 'ARNUMBER': 12791.0, 'MAGNITUDE_HER': 'B2.4', 'MAGNITUDE_NOAA': 'B2.4'}, {'DATE': '2020-12-11', 'START': 50, 'PEAK': 107, 'END': 117, 'LOCATION': 'S18W22', 'ARNUMBER': nan, 'MAGNITUDE_HER': 'B5.8', 'MAGNITUDE_NOAA': 'B5.8'}, {'DATE': '2020-12-21', 'START': 743, 'PEAK': 750, 'END': 756, 'LOCATION': 'S17W20', 'ARNUMBER': nan, 'MAGNITUDE_HER': 'B1.2', 'MAGNITUDE_NOAA': nan}, {'DATE': '2021-01-17', 'START': 323, 'PEAK': 327, 'END': 337, 'LOCATION': 'S23W20', 'ARNUMBER': 12796.0, 'MAGNITUDE_HER': 'A7.9', 'MAGNITUDE_NOAA': nan}, {'DATE': '2021-04-15', 'START': 58, 'PEAK': 100, 'END': 107, 'LOCATION': 'S23W17', 'ARNUMBER': 12814.0, 'MAGNITUDE_HER': 'A5.5', 'MAGNITUDE_NOAA': nan}, {'DATE': '2021-04-15', 'START': 312, 'PEAK': 318, 'END': 324, 'LOCATION': 'S23W19', 'ARNUMBER': 12814.0, 'MAGNITUDE_HER': 'A6.7', 'MAGNITUDE_NOAA': nan}, {'DATE': '2021-04-15', 'START': 401, 'PEAK': 417, 'END': 442, 'LOCATION': 'S24W20', 'ARNUMBER': 12814.0, 'MAGNITUDE_HER': 'A8.2', 'MAGNITUDE_NOAA': nan}, {'DATE': '2021-04-15', 'START': 456, 'PEAK': 502, 'END': 527, 'LOCATION': 'S23W19', 'ARNUMBER': 12814.0, 'MAGNITUDE_HER': 'A6.5', 'MAGNITUDE_NOAA': nan}, {'DATE': '2021-04-23', 'START': 509, 'PEAK': 525, 'END': 559, 'LOCATION': 'S24W20', 'ARNUMBER': 12816.0, 'MAGNITUDE_HER': 'C1.0', 'MAGNITUDE_NOAA': 'C1.0'}, {'DATE': '2021-04-26', 'START': 2344, 'PEAK': 21, 'END': 56, 'LOCATION': 'S20W18', 'ARNUMBER': 12820.0, 'MAGNITUDE_HER': 'B1.3', 'MAGNITUDE_NOAA': nan}, {'DATE': '2021-04-27', 'START': 120, 'PEAK': 147, 'END': 204, 'LOCATION': 'S21W21', 'ARNUMBER': 12820.0, 'MAGNITUDE_HER': 'B2.1', 'MAGNITUDE_NOAA': nan}, {'DATE': '2021-04-27', 'START': 429, 'PEAK': 434, 'END': 439, 'LOCATION': 'S21W18', 'ARNUMBER': 12820.0, 'MAGNITUDE_HER': 'B1.2', 'MAGNITUDE_NOAA': 'B1.2'}, {'DATE': '2021-08-30', 'START': 121, 'PEAK': 129, 'END': 136, 'LOCATION': 'S26W20', 'ARNUMBER': 12860.0, 'MAGNITUDE_HER': 'B7.2', 'MAGNITUDE_NOAA': 'B7.2'}, {'DATE': '2021-09-06', 'START': 1300, 'PEAK': 1304, 'END': 1308, 'LOCATION': 'S15W22', 'ARNUMBER': 12863.0, 'MAGNITUDE_HER': 'B4.5', 'MAGNITUDE_NOAA': 'B4.5'}, {'DATE': '2021-10-10', 'START': 944, 'PEAK': 1010, 'END': 1025, 'LOCATION': 'S20W20', 'ARNUMBER': nan, 'MAGNITUDE_HER': 'B2.5', 'MAGNITUDE_NOAA': nan}]}]\n"
     ]
    }
   ],
   "source": [
    "import pickle\n",
    "\n",
    "# open a file, where you stored the pickled data\n",
    "file = open('AREventMatches', 'rb')\n",
    "\n",
    "# dump information to that file\n",
    "data = pickle.load(file)\n",
    "\n",
    "# close the file\n",
    "file.close()\n",
    "\n",
    "print('Showing the pickled data:')\n",
    "\n",
    "print(data)"
   ]
  },
  {
   "cell_type": "code",
   "execution_count": 110,
   "id": "38a496ce-c858-4ad3-902b-cbde18bd7262",
   "metadata": {},
   "outputs": [
    {
     "name": "stdout",
     "output_type": "stream",
     "text": [
      "Original List:  [1, 2, 4, 2, 1, 4, 5]\n",
      "List after removing duplicate elements:  [1, 2, 4, 5]\n"
     ]
    }
   ],
   "source": [
    "l = [1, 2, 4, 2, 1, 4, 5]\n",
    "print(\"Original List: \", l)\n",
    "res = [*set(l)]\n",
    "print(\"List after removing duplicate elements: \", res)"
   ]
  },
  {
   "cell_type": "code",
   "execution_count": null,
   "id": "aecda817-4b13-4b84-aeae-1ca42f7fbb0e",
   "metadata": {},
   "outputs": [],
   "source": []
  }
 ],
 "metadata": {
  "kernelspec": {
   "display_name": "Python 3 (ipykernel)",
   "language": "python",
   "name": "python3"
  },
  "language_info": {
   "codemirror_mode": {
    "name": "ipython",
    "version": 3
   },
   "file_extension": ".py",
   "mimetype": "text/x-python",
   "name": "python",
   "nbconvert_exporter": "python",
   "pygments_lexer": "ipython3",
   "version": "3.10.5"
  }
 },
 "nbformat": 4,
 "nbformat_minor": 5
}
